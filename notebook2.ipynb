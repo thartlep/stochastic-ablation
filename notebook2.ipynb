{
 "cells": [
  {
   "cell_type": "markdown",
   "metadata": {},
   "source": [
    "# Stochastic Ablation Notebook 2\n",
    "## Conditional circuit branches\n",
    "\n",
    "This follw-up notebook digs deeper determining conditional probabilities the two heads succeeding or failing together. This is used to map out circuits are branching substructures."
   ]
  },
  {
   "cell_type": "markdown",
   "metadata": {},
   "source": [
    "[Run this notebook on Google Colab](https://colab.research.google.com/github/thartlep/stochastic-ablation/blob/main/notebook2.ipynb)"
   ]
  },
  {
   "cell_type": "markdown",
   "metadata": {},
   "source": [
    "### Some settings to adjust:"
   ]
  },
  {
   "cell_type": "code",
   "execution_count": null,
   "metadata": {},
   "outputs": [],
   "source": [
    "# Nothing yet"
   ]
  },
  {
   "cell_type": "markdown",
   "metadata": {},
   "source": [
    "### Import Python modules and load data from first notebook:"
   ]
  },
  {
   "cell_type": "code",
   "execution_count": null,
   "metadata": {},
   "outputs": [],
   "source": [
    "# Import needed modules\n",
    "import numpy as np\n",
    "import matplotlib.pyplot as plt\n",
    "import seaborn as sns\n",
    "from tqdm import tqdm\n",
    "import pickle\n",
    "from collections import defaultdict\n",
    "\n",
    "# Load data\n",
    "file_path = \"stochastic_ablation__monte_carlo_results.pkl\"\n",
    "with open(file_path, \"rb\") as f:\n",
    "    data = pickle.load(f)\n",
    "results__many_ablated = data[\"results__many_ablated\"]\n",
    "results__few_ablated = data[\"results__few_ablated\"]\n",
    "model_name = data[\"model_name\"]\n",
    "n_layers = data[\"n_layers\"]\n",
    "n_heads = data[\"n_heads\"]\n",
    "head_indices = [(l,h) for l in range(n_layers) for h in range(n_heads)]\n",
    "n_heads_total = len(head_indices)"
   ]
  }
 ],
 "metadata": {
  "kernelspec": {
   "display_name": "interp",
   "language": "python",
   "name": "python3"
  },
  "language_info": {
   "codemirror_mode": {
    "name": "ipython",
    "version": 3
   },
   "file_extension": ".py",
   "mimetype": "text/x-python",
   "name": "python",
   "nbconvert_exporter": "python",
   "pygments_lexer": "ipython3",
   "version": "3.9.23"
  }
 },
 "nbformat": 4,
 "nbformat_minor": 2
}
