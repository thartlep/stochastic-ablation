{
 "cells": [
  {
   "cell_type": "markdown",
   "metadata": {},
   "source": [
    "# Stochastic Ablation Notebook 2\n",
    "## Conditional circuit branches\n",
    "\n",
    "This follw-up notebook explores digs deeper and determines the conditional probabilities the two heads "
   ]
  },
  {
   "cell_type": "markdown",
   "metadata": {},
   "source": [
    "[Run this notebook on Google Colab](https://colab.research.google.com/github/thartlep/stochastic-ablation/blob/main/notebook2.ipynb)"
   ]
  },
  {
   "cell_type": "markdown",
   "metadata": {},
   "source": [
    "### Import Python modules and load data from first notebook:"
   ]
  },
  {
   "cell_type": "code",
   "execution_count": null,
   "metadata": {},
   "outputs": [],
   "source": [
    "# Ignore mostly harmless warnings\n",
    "import warnings\n",
    "warnings.filterwarnings(\"ignore\")\n",
    "\n",
    "# Import needed modules\n",
    "import torch\n",
    "import numpy as np\n",
    "import pandas as pd\n",
    "import matplotlib.pyplot as plt\n",
    "import seaborn as sns\n",
    "from tqdm import tqdm\n",
    "from transformer_lens import HookedTransformer\n",
    "import pickle\n",
    "\n",
    "# Reproducibility\n",
    "np.random.seed(42)\n",
    "torch.manual_seed(42)\n",
    "\n",
    "# Load data\n",
    "with open(\"monte_carlo_results.pkl\", \"rb\") as f:\n",
    "    data = pickle.load(f)\n",
    "results__many_ablated = data[\"results__many_ablated\"]\n",
    "results__few_ablated = data[\"results__few_ablated\"]\n",
    "model_name = data[\"model_name\"]\n",
    "n_layers = data[\"n_layers\"]\n",
    "n_heads = data[\"n_heads\"]\n",
    "head_indices = [(l,h) for l in range(n_layers) for h in range(n_heads)]\n",
    "n_heads_total = len(head_indices)"
   ]
  },
  {
   "cell_type": "markdown",
   "metadata": {},
   "source": [
    "## Summary\n",
    "\n",
    ">\n",
    ">\n",
    ">\n",
    "\n",
    "### Key Figures\n",
    "\n",
    "- **Plot 1:** Caption.\n",
    "\n",
    "![Scatter Plot](https://github.com/thartlep/stochastic-ablation/raw/main/figures/notebook2/plot1.png)\n",
    "\n",
    "- **Plot 2:** Caption.\n",
    "\n",
    "![Pie Charts](https://github.com/thartlep/stochastic-ablation/raw/main/figures/notebook2/plot2.png)\n",
    "\n",
    "### Key Takeaways\n",
    ">- \n",
    ">- \n",
    ">- "
   ]
  },
  {
   "cell_type": "markdown",
   "metadata": {},
   "source": [
    "## Future Directions: \n",
    "\n",
    "> **Where next?**\n",
    ">\n",
    "> \n",
    "> "
   ]
  }
 ],
 "metadata": {
  "kernelspec": {
   "display_name": "interp",
   "language": "python",
   "name": "python3"
  },
  "language_info": {
   "codemirror_mode": {
    "name": "ipython",
    "version": 3
   },
   "file_extension": ".py",
   "mimetype": "text/x-python",
   "name": "python",
   "nbconvert_exporter": "python",
   "pygments_lexer": "ipython3",
   "version": "3.9.23"
  }
 },
 "nbformat": 4,
 "nbformat_minor": 2
}
